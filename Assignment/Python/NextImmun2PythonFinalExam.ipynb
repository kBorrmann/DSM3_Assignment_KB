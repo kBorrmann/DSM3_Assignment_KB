{
  "nbformat": 4,
  "nbformat_minor": 0,
  "metadata": {
    "colab": {
      "provenance": []
    },
    "kernelspec": {
      "name": "python3",
      "display_name": "Python 3"
    },
    "language_info": {
      "name": "python"
    }
  },
  "cells": [
    {
      "cell_type": "markdown",
      "source": [
        "## This Jupyter Notebook serves as a demo Workflow of cleaning and exploring IgE measurements with Pax for an allergen panel involve testing blood samples to detect Immunoglobulin E (IgE) antibody levels against specific allergens using the Pax system.\n",
        "\n",
        "Fill in the empty code cells below. Feel free to add more code cells if needed."
      ],
      "metadata": {
        "id": "9Wpep-sI3ojO"
      }
    },
    {
      "cell_type": "markdown",
      "source": [
        "### Data upload:\n",
        "- Use the upload button on the left to upload the file: 'PAX_Data.xlsx'\n",
        "- By default the data should have been upload to into the folder '/content'"
      ],
      "metadata": {
        "id": "EEGRQs2QEGs0"
      }
    },
    {
      "cell_type": "markdown",
      "source": [
        "## Load the required modules\n",
        "- Just run the following code-cell to load all modules needed for this exercise"
      ],
      "metadata": {
        "id": "apC-TfeGEkuC"
      }
    },
    {
      "cell_type": "code",
      "execution_count": 1,
      "metadata": {
        "id": "l-jtRZ_b8J1K"
      },
      "outputs": [],
      "source": [
        "import os\n",
        "import pandas as pd\n",
        "import numpy as np"
      ]
    },
    {
      "cell_type": "markdown",
      "source": [
        "### Checking the working directory:\n",
        "- use 'os.getcwd()' method to check for the current working directory.\n",
        "- If you are using Google Colab, the default working directory should be the folder 'content'\n",
        "- If not, use the 'os. chdir(<path>)' method to make sure to set the working directory"
      ],
      "metadata": {
        "id": "b2m0MQK8C6JK"
      }
    },
    {
      "cell_type": "code",
      "source": [
        "os.getcwd()"
      ],
      "metadata": {
        "id": "jCGpnwB79b_P",
        "outputId": "bc905416-708f-480a-f9ec-d48b73dd8bdc",
        "colab": {
          "base_uri": "https://localhost:8080/",
          "height": 35
        }
      },
      "execution_count": 2,
      "outputs": [
        {
          "output_type": "execute_result",
          "data": {
            "text/plain": [
              "'/content'"
            ],
            "application/vnd.google.colaboratory.intrinsic+json": {
              "type": "string"
            }
          },
          "metadata": {},
          "execution_count": 2
        }
      ]
    },
    {
      "cell_type": "markdown",
      "source": [
        "## Read the excel file\n",
        "- if you are not using Google Colab, make sure to set the path to your data file correctly: \\'<FILE-PATH\\>/PAX_Data.xlsx'\n",
        "- use: 'Sheet1' as sheet_name\n",
        "- ignore the header: header=None\n",
        "- assign the loaded data to a variable called: df\n"
      ],
      "metadata": {
        "id": "NvsWxy8F9-uy"
      }
    },
    {
      "cell_type": "code",
      "source": [
        "df = pd.read_excel('PAX_Data.xlsx', sheet_name='Sheet1', header=None)"
      ],
      "metadata": {
        "id": "bF0WoJbC8d02"
      },
      "execution_count": 11,
      "outputs": []
    },
    {
      "cell_type": "markdown",
      "source": [
        "### Print the 'shape' of the dataframe"
      ],
      "metadata": {
        "id": "M6yjtn4WGiez"
      }
    },
    {
      "cell_type": "code",
      "source": [
        "print(df.shape)"
      ],
      "metadata": {
        "id": "BbpLo_WBGcYY",
        "outputId": "8e8a564d-eea8-41d2-b3d1-8c6919893e25",
        "colab": {
          "base_uri": "https://localhost:8080/"
        }
      },
      "execution_count": 12,
      "outputs": [
        {
          "output_type": "stream",
          "name": "stdout",
          "text": [
            "(250, 6616)\n"
          ]
        }
      ]
    },
    {
      "cell_type": "markdown",
      "source": [
        "### Print the number of rows:"
      ],
      "metadata": {
        "id": "OcRJcshNI6SG"
      }
    },
    {
      "cell_type": "code",
      "source": [
        "print(df.shape[0])"
      ],
      "metadata": {
        "id": "npdOHFeOI_0B",
        "outputId": "b76e7c43-4d1d-4d4e-9f44-d36d5d98d482",
        "colab": {
          "base_uri": "https://localhost:8080/"
        }
      },
      "execution_count": 13,
      "outputs": [
        {
          "output_type": "stream",
          "name": "stdout",
          "text": [
            "250\n"
          ]
        }
      ]
    },
    {
      "cell_type": "markdown",
      "source": [
        "### Use the 'head' method to have a look at the first 10 rows of the table"
      ],
      "metadata": {
        "id": "FIQmZ_3i_ex0"
      }
    },
    {
      "cell_type": "code",
      "source": [
        "print(df.head(10))"
      ],
      "metadata": {
        "id": "p0HlMDZF9D-5",
        "outputId": "3c55ce3d-f3d4-4cba-b4e3-d6ec39ddb17b",
        "colab": {
          "base_uri": "https://localhost:8080/"
        }
      },
      "execution_count": 15,
      "outputs": [
        {
          "output_type": "stream",
          "name": "stdout",
          "text": [
            "           0                1               2               3     \\\n",
            "0  Date of test       2023-04-13      2023-04-13      2023-04-13   \n",
            "1   Test number      2334000487D     2331000683D     2331000884D   \n",
            "2       Country            Spain      Netherland         Germany   \n",
            "3       Age Y/M  3Years 11Months  2Years 8Months  2Years 8Months   \n",
            "4           Sex           Female            Male            Male   \n",
            "5         Cyn d             18.5           19.67           20.11   \n",
            "6      rCyn d 1            22.99           21.95           20.66   \n",
            "7         Dac g            19.15           19.57           21.78   \n",
            "8         Fes p            21.84            21.3           26.96   \n",
            "9      rLol p 1            22.33           22.23           22.59   \n",
            "\n",
            "             4                 5               6               7     \\\n",
            "0      2023-04-13        2023-04-13      2023-04-13      2023-04-13   \n",
            "1     2331000880D       2331000851D     2331001025D     2331000881D   \n",
            "2         Germany        Netherland          Sweden         Germany   \n",
            "3  7Years 9Months  11Years 11Months  4Years 8Months  1Years 9Months   \n",
            "4          Female              Male          Female            Male   \n",
            "5           18.09             17.92           17.78           18.64   \n",
            "6           21.68             20.56           21.62           22.83   \n",
            "7           18.37             18.12           19.35           19.95   \n",
            "8           24.05             23.21           22.62           21.98   \n",
            "9           21.99             23.16           21.27           22.99   \n",
            "\n",
            "             8               9     ...            6606            6607  \\\n",
            "0      2023-04-13      2023-04-13  ...      2023-06-30      2023-06-30   \n",
            "1     2331000879D     2344000227D  ...     2334002233D     2348000664D   \n",
            "2         Germany              UK  ...        Slovenia          Poland   \n",
            "3  6Years 9Months  3Years 8Months  ...  8Years 8Months  3Years 7Months   \n",
            "4          Female          Female  ...          Female          Female   \n",
            "5            21.3            20.5  ...           16.33           17.18   \n",
            "6            23.2           25.07  ...           23.27           21.77   \n",
            "7           21.52           20.55  ...           19.28           20.33   \n",
            "8           24.55           20.39  ...           21.14           22.39   \n",
            "9           23.95           21.35  ...           17.81           19.57   \n",
            "\n",
            "             6608            6609            6610            6611  \\\n",
            "0      2023-06-30      2023-06-30      2023-06-30      2023-06-30   \n",
            "1     2331003597D     2331003185D     2331003447D     2334002232D   \n",
            "2         Belgium          Norway      Netherland        Slovenia   \n",
            "3  3Years 7Months  1Years 5Months  1Years 5Months  2Years 5Months   \n",
            "4          Female          Female          Female            Male   \n",
            "5           15.48           15.79           18.64           17.44   \n",
            "6           21.78           20.69           26.49           20.76   \n",
            "7           17.34           19.06           18.86           17.84   \n",
            "8           20.93           21.78           19.95           20.64   \n",
            "9           22.76           21.23           21.77           19.41   \n",
            "\n",
            "             6612            6613            6614            6615  \n",
            "0      2023-06-30      2023-06-30      2023-06-30      2023-06-30  \n",
            "1     2344000712D     2331003547D     2344000711D     2334002236D  \n",
            "2              UK      Netherland              UK           Spain  \n",
            "3  2Years 5Months  2Years 5Months  2Years 5Months  2Years 5Months  \n",
            "4            Male            Male            Male            Male  \n",
            "5           17.05           18.42           19.03           16.73  \n",
            "6           21.07           24.48            21.4           20.12  \n",
            "7           18.67           19.99           21.01            17.4  \n",
            "8           20.79           19.24           24.33           20.77  \n",
            "9           22.32           20.15            22.7           20.96  \n",
            "\n",
            "[10 rows x 6616 columns]\n"
          ]
        }
      ]
    },
    {
      "cell_type": "markdown",
      "source": [
        "### Splitting the Data:\n",
        "- As you can see, row 0 to 4 contains the metadata of the experiment\n",
        "- Row 5 to end contains the measured expression data of Allergens\n",
        "\n",
        "Now, we need to split the data into:\n",
        "- Metadata and\n",
        "- Expression data\n",
        "\n",
        "Check the documentation of the pandas method 'iloc'\n",
        "- Split the data, row 0 to 4 and assing it to a variable called: md\n",
        "- From row 5 to end, assing the expression data to a variable called: expr"
      ],
      "metadata": {
        "id": "FGDpXLD4JKbf"
      }
    },
    {
      "cell_type": "code",
      "source": [
        "md = df.iloc[0:4]"
      ],
      "metadata": {
        "id": "GIfzdrCN95Q6"
      },
      "execution_count": 40,
      "outputs": []
    },
    {
      "cell_type": "code",
      "source": [
        "expr = df.iloc[5:]"
      ],
      "metadata": {
        "id": "q9C8YMSA_u54"
      },
      "execution_count": 28,
      "outputs": []
    },
    {
      "cell_type": "markdown",
      "source": [
        "### Print the 'shape' of each new table"
      ],
      "metadata": {
        "id": "YP7i_N0vLXZl"
      }
    },
    {
      "cell_type": "code",
      "source": [
        "print(md.shape)\n",
        "print(expr.shape)"
      ],
      "metadata": {
        "id": "ud1T07b-KXmM",
        "outputId": "40dea115-59c4-47fa-b287-b83b3503d31f",
        "colab": {
          "base_uri": "https://localhost:8080/"
        }
      },
      "execution_count": 41,
      "outputs": [
        {
          "output_type": "stream",
          "name": "stdout",
          "text": [
            "(4, 6616)\n",
            "(245, 6615)\n"
          ]
        }
      ]
    },
    {
      "cell_type": "markdown",
      "source": [
        "### Use the 'head' method to inspect the expr table\n"
      ],
      "metadata": {
        "id": "uFK6FwvxMVtV"
      }
    },
    {
      "cell_type": "code",
      "source": [
        "print(expr.head(10))"
      ],
      "metadata": {
        "id": "UFm5WkVVKiy0",
        "outputId": "f8ee2ce1-4bab-4398-f720-6d3e836fcda9",
        "colab": {
          "base_uri": "https://localhost:8080/"
        }
      },
      "execution_count": 30,
      "outputs": [
        {
          "output_type": "stream",
          "name": "stdout",
          "text": [
            "             0      1      2      3      4      5      6      7      8     \\\n",
            "5           Cyn d   18.5  19.67  20.11  18.09  17.92  17.78  18.64   21.3   \n",
            "6        rCyn d 1  22.99  21.95  20.66  21.68  20.56  21.62  22.83   23.2   \n",
            "7           Dac g  19.15  19.57  21.78  18.37  18.12  19.35  19.95  21.52   \n",
            "8           Fes p  21.84   21.3  26.96  24.05  23.21  22.62  21.98  24.55   \n",
            "9        rLol p 1  22.33  22.23  22.59  21.99  23.16  21.27  22.99  23.95   \n",
            "10          Pas n  21.17  22.28  21.03  21.77  20.55  19.32  30.85  23.31   \n",
            "11       rPhl p 1  21.77  22.96  21.61  21.55  20.79  22.83  24.76  26.11   \n",
            "12       rPhl p 2  19.92  19.45  21.01  19.59  20.08  16.71  20.64  21.75   \n",
            "13  rPhl p 5.0101  21.79  19.07  20.15  19.72   23.4  19.61  23.81  21.44   \n",
            "14       rPhl p 6  22.25  20.69  23.09  19.94  19.59   18.8  23.23  21.69   \n",
            "\n",
            "     9     ...   6606   6607   6608   6609   6610   6611   6612   6613   6614  \\\n",
            "5    20.5  ...  16.33  17.18  15.48  15.79  18.64  17.44  17.05  18.42  19.03   \n",
            "6   25.07  ...  23.27  21.77  21.78  20.69  26.49  20.76  21.07  24.48   21.4   \n",
            "7   20.55  ...  19.28  20.33  17.34  19.06  18.86  17.84  18.67  19.99  21.01   \n",
            "8   20.39  ...  21.14  22.39  20.93  21.78  19.95  20.64  20.79  19.24  24.33   \n",
            "9   21.35  ...  17.81  19.57  22.76  21.23  21.77  19.41  22.32  20.15   22.7   \n",
            "10  20.62  ...  21.95  22.21  19.55  21.57  18.23  19.71   21.6  20.64  18.91   \n",
            "11  21.89  ...  21.16  21.13  22.19  20.32     23  20.39  20.86  20.56  20.19   \n",
            "12  19.86  ...  20.09  18.35  19.01  19.72  19.71   18.6  17.59  19.58  19.38   \n",
            "13  18.77  ...  19.72  19.68  21.86  19.21  47.15  19.98  22.94  19.48  21.48   \n",
            "14  18.37  ...  20.43  18.33  19.35  19.79  20.39  19.94  19.59  24.45  19.06   \n",
            "\n",
            "     6615  \n",
            "5   16.73  \n",
            "6   20.12  \n",
            "7    17.4  \n",
            "8   20.77  \n",
            "9   20.96  \n",
            "10  18.46  \n",
            "11   19.3  \n",
            "12  18.01  \n",
            "13  20.64  \n",
            "14  20.69  \n",
            "\n",
            "[10 rows x 6616 columns]\n"
          ]
        }
      ]
    },
    {
      "cell_type": "markdown",
      "source": [
        "As you can see column 0 contains the name of the Allergens\n",
        "\n",
        "- Set the Allergen names as the index of the table (similar to rownames in R)example:   'expr.index = ...'\n",
        "- 'drop' the column 0 and override the current variable"
      ],
      "metadata": {
        "id": "6DLnuds7NaeC"
      }
    },
    {
      "cell_type": "code",
      "source": [
        "expr = expr.set_index(0)\n",
        "print(expr)"
      ],
      "metadata": {
        "id": "ZhLA3hNhMJCh"
      },
      "execution_count": 32,
      "outputs": []
    },
    {
      "cell_type": "code",
      "source": [],
      "metadata": {
        "id": "ZI85erLrNF_s",
        "outputId": "6a06cce8-aa9d-499c-f658-d52b802d7c41",
        "colab": {
          "base_uri": "https://localhost:8080/"
        }
      },
      "execution_count": 35,
      "outputs": [
        {
          "output_type": "stream",
          "name": "stdout",
          "text": [
            "                1      2      3      4      5      6      7      8      9     \\\n",
            "0                                                                              \n",
            "Cyn d           18.5  19.67  20.11  18.09  17.92  17.78  18.64   21.3   20.5   \n",
            "rCyn d 1       22.99  21.95  20.66  21.68  20.56  21.62  22.83   23.2  25.07   \n",
            "Dac g          19.15  19.57  21.78  18.37  18.12  19.35  19.95  21.52  20.55   \n",
            "Fes p          21.84   21.3  26.96  24.05  23.21  22.62  21.98  24.55  20.39   \n",
            "rLol p 1       22.33  22.23  22.59  21.99  23.16  21.27  22.99  23.95  21.35   \n",
            "...              ...    ...    ...    ...    ...    ...    ...    ...    ...   \n",
            "Sola t         22.05  22.33  22.33  21.61  21.85  20.94  19.71  21.27  18.76   \n",
            "rSola t 2      22.36  24.08  24.08  16.39  16.83  30.73  18.29   19.2  18.89   \n",
            "rSola t_GBSSI  23.43  24.02  24.02  19.78  20.01  24.56  23.26  21.62  21.01   \n",
            "rHom s LF      27.51  27.94  27.94  27.75  27.55   27.9  27.82  27.71  27.65   \n",
            "CCD-HSA           27  25.61  25.61  24.08  22.01  21.98  21.86  21.37  21.24   \n",
            "\n",
            "                10    ...   6606   6607   6608   6609   6610   6611   6612  \\\n",
            "0                     ...                                                    \n",
            "Cyn d          17.64  ...  16.33  17.18  15.48  15.79  18.64  17.44  17.05   \n",
            "rCyn d 1       22.32  ...  23.27  21.77  21.78  20.69  26.49  20.76  21.07   \n",
            "Dac g          19.35  ...  19.28  20.33  17.34  19.06  18.86  17.84  18.67   \n",
            "Fes p          22.08  ...  21.14  22.39  20.93  21.78  19.95  20.64  20.79   \n",
            "rLol p 1       22.06  ...  17.81  19.57  22.76  21.23  21.77  19.41  22.32   \n",
            "...              ...  ...    ...    ...    ...    ...    ...    ...    ...   \n",
            "Sola t         18.76  ...  20.05  21.44   21.6  18.46  19.28  19.28  20.99   \n",
            "rSola t 2      18.89  ...  17.37  19.06   19.1  18.23  16.97  16.97  19.72   \n",
            "rSola t_GBSSI  21.01  ...  21.38   20.4  20.35  21.23  20.13  20.13  21.65   \n",
            "rHom s LF      27.65  ...  16.05  15.96  15.85  15.76  15.76  15.76  15.66   \n",
            "CCD-HSA        21.24  ...  17.95  18.37  17.59  18.89  17.13  17.13  17.25   \n",
            "\n",
            "                6613   6614   6615  \n",
            "0                                   \n",
            "Cyn d          18.42  19.03  16.73  \n",
            "rCyn d 1       24.48   21.4  20.12  \n",
            "Dac g          19.99  21.01   17.4  \n",
            "Fes p          19.24  24.33  20.77  \n",
            "rLol p 1       20.15   22.7  20.96  \n",
            "...              ...    ...    ...  \n",
            "Sola t         19.42  19.89  18.79  \n",
            "rSola t 2      19.35  17.84  16.53  \n",
            "rSola t_GBSSI  21.24  20.97  19.07  \n",
            "rHom s LF      15.55  15.44   14.9  \n",
            "CCD-HSA        17.78  17.76  16.76  \n",
            "\n",
            "[245 rows x 6615 columns]\n"
          ]
        }
      ]
    },
    {
      "cell_type": "markdown",
      "source": [
        "### Cleaning the Metadata\n",
        "- Use 'head' to look into the metadata\n",
        "Note that we want to use the rows as columns, therefore:\n",
        "- Transpose the metadata\n",
        "- Change the table: row 0 should be the column names"
      ],
      "metadata": {
        "id": "ePM108KeRjfe"
      }
    },
    {
      "cell_type": "code",
      "source": [
        "print(md.head(10))"
      ],
      "metadata": {
        "id": "8L0bNeDfdpKN",
        "outputId": "ab8b3285-ebcb-41a7-e762-e0fa14ddaad9",
        "colab": {
          "base_uri": "https://localhost:8080/"
        }
      },
      "execution_count": 42,
      "outputs": [
        {
          "output_type": "stream",
          "name": "stdout",
          "text": [
            "           0                1               2               3     \\\n",
            "0  Date of test       2023-04-13      2023-04-13      2023-04-13   \n",
            "1   Test number      2334000487D     2331000683D     2331000884D   \n",
            "2       Country            Spain      Netherland         Germany   \n",
            "3       Age Y/M  3Years 11Months  2Years 8Months  2Years 8Months   \n",
            "\n",
            "             4                 5               6               7     \\\n",
            "0      2023-04-13        2023-04-13      2023-04-13      2023-04-13   \n",
            "1     2331000880D       2331000851D     2331001025D     2331000881D   \n",
            "2         Germany        Netherland          Sweden         Germany   \n",
            "3  7Years 9Months  11Years 11Months  4Years 8Months  1Years 9Months   \n",
            "\n",
            "             8               9     ...            6606            6607  \\\n",
            "0      2023-04-13      2023-04-13  ...      2023-06-30      2023-06-30   \n",
            "1     2331000879D     2344000227D  ...     2334002233D     2348000664D   \n",
            "2         Germany              UK  ...        Slovenia          Poland   \n",
            "3  6Years 9Months  3Years 8Months  ...  8Years 8Months  3Years 7Months   \n",
            "\n",
            "             6608            6609            6610            6611  \\\n",
            "0      2023-06-30      2023-06-30      2023-06-30      2023-06-30   \n",
            "1     2331003597D     2331003185D     2331003447D     2334002232D   \n",
            "2         Belgium          Norway      Netherland        Slovenia   \n",
            "3  3Years 7Months  1Years 5Months  1Years 5Months  2Years 5Months   \n",
            "\n",
            "             6612            6613            6614            6615  \n",
            "0      2023-06-30      2023-06-30      2023-06-30      2023-06-30  \n",
            "1     2344000712D     2331003547D     2344000711D     2334002236D  \n",
            "2              UK      Netherland              UK           Spain  \n",
            "3  2Years 5Months  2Years 5Months  2Years 5Months  2Years 5Months  \n",
            "\n",
            "[4 rows x 6616 columns]\n"
          ]
        }
      ]
    },
    {
      "cell_type": "code",
      "source": [
        "md = md.T"
      ],
      "metadata": {
        "id": "YtnioXHEQWPX"
      },
      "execution_count": 64,
      "outputs": []
    },
    {
      "cell_type": "code",
      "source": [
        "md.columns = md.iloc[0]\n",
        "print(md)"
      ],
      "metadata": {
        "id": "NNVU0oJpSF7O",
        "outputId": "85b8a44d-c040-4fdb-b077-a6c39f5918ba",
        "colab": {
          "base_uri": "https://localhost:8080/"
        }
      },
      "execution_count": 65,
      "outputs": [
        {
          "output_type": "stream",
          "name": "stdout",
          "text": [
            "0     Date of test  Test number     Country          Age Y/M\n",
            "0     Date of test  Test number     Country          Age Y/M\n",
            "1       2023-04-13  2334000487D       Spain  3Years 11Months\n",
            "2       2023-04-13  2331000683D  Netherland   2Years 8Months\n",
            "3       2023-04-13  2331000884D     Germany   2Years 8Months\n",
            "4       2023-04-13  2331000880D     Germany   7Years 9Months\n",
            "...            ...          ...         ...              ...\n",
            "6611    2023-06-30  2334002232D    Slovenia   2Years 5Months\n",
            "6612    2023-06-30  2344000712D          UK   2Years 5Months\n",
            "6613    2023-06-30  2331003547D  Netherland   2Years 5Months\n",
            "6614    2023-06-30  2344000711D          UK   2Years 5Months\n",
            "6615    2023-06-30  2334002236D       Spain   2Years 5Months\n",
            "\n",
            "[6616 rows x 4 columns]\n"
          ]
        }
      ]
    },
    {
      "cell_type": "markdown",
      "source": [
        "- Make sure to remove the first row, which now has become the column names"
      ],
      "metadata": {
        "id": "j9JPHcgcetB4"
      }
    },
    {
      "cell_type": "code",
      "source": [
        "md = md[1:]\n",
        "print(md)"
      ],
      "metadata": {
        "id": "gLl-NPoxSiuv",
        "outputId": "ca257c07-5bad-4128-eb92-5ab49efbab52",
        "colab": {
          "base_uri": "https://localhost:8080/"
        }
      },
      "execution_count": 66,
      "outputs": [
        {
          "output_type": "stream",
          "name": "stdout",
          "text": [
            "0    Date of test  Test number     Country           Age Y/M\n",
            "1      2023-04-13  2334000487D       Spain   3Years 11Months\n",
            "2      2023-04-13  2331000683D  Netherland    2Years 8Months\n",
            "3      2023-04-13  2331000884D     Germany    2Years 8Months\n",
            "4      2023-04-13  2331000880D     Germany    7Years 9Months\n",
            "5      2023-04-13  2331000851D  Netherland  11Years 11Months\n",
            "...           ...          ...         ...               ...\n",
            "6611   2023-06-30  2334002232D    Slovenia    2Years 5Months\n",
            "6612   2023-06-30  2344000712D          UK    2Years 5Months\n",
            "6613   2023-06-30  2331003547D  Netherland    2Years 5Months\n",
            "6614   2023-06-30  2344000711D          UK    2Years 5Months\n",
            "6615   2023-06-30  2334002236D       Spain    2Years 5Months\n",
            "\n",
            "[6615 rows x 4 columns]\n"
          ]
        }
      ]
    },
    {
      "cell_type": "markdown",
      "source": [
        "### Use 'head' to inspect your table and make sure it looks as below:\n",
        "\n",
        "\tDate of test Test number\tCountry\tAge Y/M**\n",
        "\n",
        "1\t2023-04-13\t2334000487D\tSpain\t3Years 11Months\n",
        "\n",
        "2\t2023-04-13\t2331000683D\tNetherland\t2Years 8Months\n",
        "\n",
        "3\t2023-04-13\t2331000884D\tGermany\t2Years 8Months\n",
        "\n",
        "4\t2023-04-13\t2331000880D\tGermany\t7Years 9Months\n",
        "\n",
        "5\t2023-04-13\t2331000851D\tNetherland\t11Years 11Months"
      ],
      "metadata": {
        "id": "UCIywvdoe8dt"
      }
    },
    {
      "cell_type": "code",
      "source": [
        "print(md.head(5))"
      ],
      "metadata": {
        "id": "kbloxM7FWPlc",
        "outputId": "e18d493f-e73e-41fb-9cc8-772d446b1280",
        "colab": {
          "base_uri": "https://localhost:8080/"
        }
      },
      "execution_count": 67,
      "outputs": [
        {
          "output_type": "stream",
          "name": "stdout",
          "text": [
            "0 Date of test  Test number     Country           Age Y/M\n",
            "1   2023-04-13  2334000487D       Spain   3Years 11Months\n",
            "2   2023-04-13  2331000683D  Netherland    2Years 8Months\n",
            "3   2023-04-13  2331000884D     Germany    2Years 8Months\n",
            "4   2023-04-13  2331000880D     Germany    7Years 9Months\n",
            "5   2023-04-13  2331000851D  Netherland  11Years 11Months\n"
          ]
        }
      ]
    },
    {
      "cell_type": "markdown",
      "source": [
        "### Rename the Metadata columns\n",
        "- rename the columns 'Date of test' to 'Date', 'Test number' to 'TestID' and 'Age Y/M' to 'Age (M)'"
      ],
      "metadata": {
        "id": "-fM9HLLNZXNi"
      }
    },
    {
      "cell_type": "code",
      "source": [
        "md = md.rename(columns={'Date of test':'Date', 'Test number':'TestID', 'Age Y/M':'Age (M)'})\n",
        "print(md)"
      ],
      "metadata": {
        "id": "_LWmnfKCtH0i",
        "outputId": "c3fdc060-8390-4107-ef7f-c18445cfbcc2",
        "colab": {
          "base_uri": "https://localhost:8080/"
        }
      },
      "execution_count": 68,
      "outputs": [
        {
          "output_type": "stream",
          "name": "stdout",
          "text": [
            "0           Date       TestID     Country           Age (M)\n",
            "1     2023-04-13  2334000487D       Spain   3Years 11Months\n",
            "2     2023-04-13  2331000683D  Netherland    2Years 8Months\n",
            "3     2023-04-13  2331000884D     Germany    2Years 8Months\n",
            "4     2023-04-13  2331000880D     Germany    7Years 9Months\n",
            "5     2023-04-13  2331000851D  Netherland  11Years 11Months\n",
            "...          ...          ...         ...               ...\n",
            "6611  2023-06-30  2334002232D    Slovenia    2Years 5Months\n",
            "6612  2023-06-30  2344000712D          UK    2Years 5Months\n",
            "6613  2023-06-30  2331003547D  Netherland    2Years 5Months\n",
            "6614  2023-06-30  2344000711D          UK    2Years 5Months\n",
            "6615  2023-06-30  2334002236D       Spain    2Years 5Months\n",
            "\n",
            "[6615 rows x 4 columns]\n"
          ]
        }
      ]
    },
    {
      "cell_type": "markdown",
      "source": [
        "### Convert the Age column\n",
        "The function below converts a string into a number of total month e.g.:\n",
        "\n",
        "\"2Years 8Months\" convert to 32.0\n",
        "\n",
        "- use the below function to convert each 'string' from the Age column into a number (float)\n",
        "- Hint: check the function '.apply(convert_to_month)' which works on a dataframe column"
      ],
      "metadata": {
        "id": "5b6bsj-atFuq"
      }
    },
    {
      "cell_type": "code",
      "source": [
        "import re\n",
        "\n",
        "def convert_to_months(duration_str):\n",
        "        # Check for missing or empty entries\n",
        "    if pd.isnull(duration_str) or duration_str.strip() == \"\":\n",
        "        return None\n",
        "\n",
        "\n",
        "    # Regular expression to find years and months in the input string\n",
        "    year_pattern = re.compile(r\"(\\d+)\\s*Years?\")\n",
        "    month_pattern = re.compile(r\"(\\d+)\\s*Months?\")\n",
        "\n",
        "    # Search for years and months in the input string\n",
        "    years_match = year_pattern.search(duration_str)\n",
        "    months_match = month_pattern.search(duration_str)\n",
        "\n",
        "    # Extract years and months from the matches\n",
        "    years = int(years_match.group(1)) if years_match else 0\n",
        "    months = int(months_match.group(1)) if months_match else 0\n",
        "\n",
        "    # Convert years to months and add to months\n",
        "    total_months = (years * 12) + months\n",
        "\n",
        "    return int(total_months)\n"
      ],
      "metadata": {
        "id": "qb0qxwYabnxg"
      },
      "execution_count": 59,
      "outputs": []
    },
    {
      "cell_type": "code",
      "source": [
        "# convert md['Age (M)'] to number\n",
        "# write your code here:\n",
        "md['Age (M)'] = md['Age (M)'].apply(convert_to_months)"
      ],
      "metadata": {
        "id": "Tmqa7N1Dc72Q"
      },
      "execution_count": 69,
      "outputs": []
    },
    {
      "cell_type": "markdown",
      "source": [
        "Check the result with 'head'"
      ],
      "metadata": {
        "id": "uG_SBjqjt8pg"
      }
    },
    {
      "cell_type": "code",
      "source": [
        "print(md.head(10))"
      ],
      "metadata": {
        "id": "ATSXGe5IfEaD",
        "outputId": "2f257dff-cc13-476d-c401-9f14d4817e7e",
        "colab": {
          "base_uri": "https://localhost:8080/"
        }
      },
      "execution_count": 70,
      "outputs": [
        {
          "output_type": "stream",
          "name": "stdout",
          "text": [
            "0         Date       TestID     Country  Age (M)\n",
            "1   2023-04-13  2334000487D       Spain     47.0\n",
            "2   2023-04-13  2331000683D  Netherland     32.0\n",
            "3   2023-04-13  2331000884D     Germany     32.0\n",
            "4   2023-04-13  2331000880D     Germany     93.0\n",
            "5   2023-04-13  2331000851D  Netherland    143.0\n",
            "6   2023-04-13  2331001025D      Sweden     56.0\n",
            "7   2023-04-13  2331000881D     Germany     21.0\n",
            "8   2023-04-13  2331000879D     Germany     81.0\n",
            "9   2023-04-13  2344000227D          UK     44.0\n",
            "10  2023-04-13  2334000522D       Italy     44.0\n"
          ]
        }
      ]
    },
    {
      "cell_type": "markdown",
      "source": [
        "### Rename the columns of expr\n",
        "- use the Test Number from md['Test number'] as new column names for the expr data"
      ],
      "metadata": {
        "id": "sY4MxunMXKIn"
      }
    },
    {
      "cell_type": "code",
      "source": [
        "expr.columns = md['TestID']\n",
        "print(expr.head(10))"
      ],
      "metadata": {
        "id": "IYVz2rJDWV8L",
        "outputId": "ef128a9d-83ef-417e-988e-f07cfba254b0",
        "colab": {
          "base_uri": "https://localhost:8080/"
        }
      },
      "execution_count": 71,
      "outputs": [
        {
          "output_type": "stream",
          "name": "stdout",
          "text": [
            "TestID        2334000487D 2331000683D 2331000884D 2331000880D 2331000851D  \\\n",
            "0                                                                           \n",
            "Cyn d                18.5       19.67       20.11       18.09       17.92   \n",
            "rCyn d 1            22.99       21.95       20.66       21.68       20.56   \n",
            "Dac g               19.15       19.57       21.78       18.37       18.12   \n",
            "Fes p               21.84        21.3       26.96       24.05       23.21   \n",
            "rLol p 1            22.33       22.23       22.59       21.99       23.16   \n",
            "Pas n               21.17       22.28       21.03       21.77       20.55   \n",
            "rPhl p 1            21.77       22.96       21.61       21.55       20.79   \n",
            "rPhl p 2            19.92       19.45       21.01       19.59       20.08   \n",
            "rPhl p 5.0101       21.79       19.07       20.15       19.72        23.4   \n",
            "rPhl p 6            22.25       20.69       23.09       19.94       19.59   \n",
            "\n",
            "TestID        2331001025D 2331000881D 2331000879D 2344000227D 2334000522D  \\\n",
            "0                                                                           \n",
            "Cyn d               17.78       18.64        21.3        20.5       17.64   \n",
            "rCyn d 1            21.62       22.83        23.2       25.07       22.32   \n",
            "Dac g               19.35       19.95       21.52       20.55       19.35   \n",
            "Fes p               22.62       21.98       24.55       20.39       22.08   \n",
            "rLol p 1            21.27       22.99       23.95       21.35       22.06   \n",
            "Pas n               19.32       30.85       23.31       20.62       19.86   \n",
            "rPhl p 1            22.83       24.76       26.11       21.89        22.5   \n",
            "rPhl p 2            16.71       20.64       21.75       19.86       18.84   \n",
            "rPhl p 5.0101       19.61       23.81       21.44       18.77       21.14   \n",
            "rPhl p 6             18.8       23.23       21.69       18.37       18.81   \n",
            "\n",
            "TestID         ... 2334002233D 2348000664D 2331003597D 2331003185D  \\\n",
            "0              ...                                                   \n",
            "Cyn d          ...       16.33       17.18       15.48       15.79   \n",
            "rCyn d 1       ...       23.27       21.77       21.78       20.69   \n",
            "Dac g          ...       19.28       20.33       17.34       19.06   \n",
            "Fes p          ...       21.14       22.39       20.93       21.78   \n",
            "rLol p 1       ...       17.81       19.57       22.76       21.23   \n",
            "Pas n          ...       21.95       22.21       19.55       21.57   \n",
            "rPhl p 1       ...       21.16       21.13       22.19       20.32   \n",
            "rPhl p 2       ...       20.09       18.35       19.01       19.72   \n",
            "rPhl p 5.0101  ...       19.72       19.68       21.86       19.21   \n",
            "rPhl p 6       ...       20.43       18.33       19.35       19.79   \n",
            "\n",
            "TestID        2331003447D 2334002232D 2344000712D 2331003547D 2344000711D  \\\n",
            "0                                                                           \n",
            "Cyn d               18.64       17.44       17.05       18.42       19.03   \n",
            "rCyn d 1            26.49       20.76       21.07       24.48        21.4   \n",
            "Dac g               18.86       17.84       18.67       19.99       21.01   \n",
            "Fes p               19.95       20.64       20.79       19.24       24.33   \n",
            "rLol p 1            21.77       19.41       22.32       20.15        22.7   \n",
            "Pas n               18.23       19.71        21.6       20.64       18.91   \n",
            "rPhl p 1               23       20.39       20.86       20.56       20.19   \n",
            "rPhl p 2            19.71        18.6       17.59       19.58       19.38   \n",
            "rPhl p 5.0101       47.15       19.98       22.94       19.48       21.48   \n",
            "rPhl p 6            20.39       19.94       19.59       24.45       19.06   \n",
            "\n",
            "TestID        2334002236D  \n",
            "0                          \n",
            "Cyn d               16.73  \n",
            "rCyn d 1            20.12  \n",
            "Dac g                17.4  \n",
            "Fes p               20.77  \n",
            "rLol p 1            20.96  \n",
            "Pas n               18.46  \n",
            "rPhl p 1             19.3  \n",
            "rPhl p 2            18.01  \n",
            "rPhl p 5.0101       20.64  \n",
            "rPhl p 6            20.69  \n",
            "\n",
            "[10 rows x 6615 columns]\n"
          ]
        }
      ]
    },
    {
      "cell_type": "markdown",
      "source": [
        "### Print the shapes of both tables\n",
        "- check if the number of columns in expr matches the number of rows in md"
      ],
      "metadata": {
        "id": "rDGDdLM8XphK"
      }
    },
    {
      "cell_type": "code",
      "source": [
        "print(expr.shape)\n",
        "print(md.shape)"
      ],
      "metadata": {
        "id": "CcwZbs3AApjh",
        "outputId": "392ac4dd-87e5-4e7e-8a3d-05687c7bf7d4",
        "colab": {
          "base_uri": "https://localhost:8080/"
        }
      },
      "execution_count": 72,
      "outputs": [
        {
          "output_type": "stream",
          "name": "stdout",
          "text": [
            "(245, 6615)\n",
            "(6615, 4)\n"
          ]
        }
      ]
    },
    {
      "cell_type": "markdown",
      "source": [
        "yes, the number of columns in expr matches the number of rows in md."
      ],
      "metadata": {
        "id": "Cf6XCnoaAyEb"
      }
    },
    {
      "cell_type": "markdown",
      "source": [
        "### Dropping duplicates and keep='first'"
      ],
      "metadata": {
        "id": "nOLYa7r6fk2t"
      }
    },
    {
      "cell_type": "code",
      "source": [
        "# This function can be use to inspect if there a duplictes within a column\n",
        "md['TestID'].duplicated()"
      ],
      "metadata": {
        "id": "e7XyxZV5SHBb",
        "outputId": "c29b3a1e-ecbe-40ef-8eaf-cab08d9859a0",
        "colab": {
          "base_uri": "https://localhost:8080/"
        }
      },
      "execution_count": 73,
      "outputs": [
        {
          "output_type": "execute_result",
          "data": {
            "text/plain": [
              "1       False\n",
              "2       False\n",
              "3       False\n",
              "4       False\n",
              "5       False\n",
              "        ...  \n",
              "6611    False\n",
              "6612    False\n",
              "6613     True\n",
              "6614    False\n",
              "6615    False\n",
              "Name: TestID, Length: 6615, dtype: bool"
            ]
          },
          "metadata": {},
          "execution_count": 73
        }
      ]
    },
    {
      "cell_type": "code",
      "source": [
        "# remove duplicate values in TestID column\n",
        "# Hint: check the function: 'drop_duplicates'\n",
        "# Hint: use the parameter 'keep='first'' to keep the first occurance and remove following duplicates\n",
        "md = md.drop_duplicates(subset='TestID', keep='first')\n",
        "md['TestID'].duplicated()"
      ],
      "metadata": {
        "id": "bEKgsnPafkRb",
        "outputId": "9f428e26-d241-495c-f0cd-d7f3e10f20b0",
        "colab": {
          "base_uri": "https://localhost:8080/"
        }
      },
      "execution_count": 76,
      "outputs": [
        {
          "output_type": "execute_result",
          "data": {
            "text/plain": [
              "1       False\n",
              "2       False\n",
              "3       False\n",
              "4       False\n",
              "5       False\n",
              "        ...  \n",
              "6606    False\n",
              "6611    False\n",
              "6612    False\n",
              "6614    False\n",
              "6615    False\n",
              "Name: TestID, Length: 5814, dtype: bool"
            ]
          },
          "metadata": {},
          "execution_count": 76
        }
      ]
    },
    {
      "cell_type": "markdown",
      "source": [
        "### Don't forget to drop the duplicates on the expression data as well:"
      ],
      "metadata": {
        "id": "CjgXThY1f8FS"
      }
    },
    {
      "cell_type": "code",
      "source": [
        "# example:\n",
        "\n",
        "# df = df.loc[:, ~df.columns.duplicated()]\n",
        "\n",
        "# where df.columns.duplicated(): returns a boolean array of duplicates\n",
        "# ~ negates the boolean values: True is False and False is True\n"
      ],
      "metadata": {
        "id": "_9b1mQlLgHOe"
      },
      "execution_count": null,
      "outputs": []
    },
    {
      "cell_type": "code",
      "source": [
        "expr= expr.loc[:,~expr.columns.duplicated()]"
      ],
      "metadata": {
        "id": "GyjiuT_TBpzj"
      },
      "execution_count": 78,
      "outputs": []
    },
    {
      "cell_type": "markdown",
      "source": [
        "### Print the shapes of both table and make sure the number of rows in md and the number of columns in expr are matching"
      ],
      "metadata": {
        "id": "ilTwsoAtiJxc"
      }
    },
    {
      "cell_type": "code",
      "source": [
        "print(expr.shape)\n",
        "print(md.shape)"
      ],
      "metadata": {
        "id": "Q8JPCxLJCAg2",
        "outputId": "a3c829b0-d70f-4556-dcd3-21cc08e2b85f",
        "colab": {
          "base_uri": "https://localhost:8080/"
        }
      },
      "execution_count": 79,
      "outputs": [
        {
          "output_type": "stream",
          "name": "stdout",
          "text": [
            "(245, 5814)\n",
            "(5814, 4)\n"
          ]
        }
      ]
    },
    {
      "cell_type": "markdown",
      "source": [
        "### Saving the DATA\n",
        "After initial cleaning, let's save the data in its current form:\n",
        "- save both tables as csv file in the current directory"
      ],
      "metadata": {
        "id": "3J5PXgF6JDmz"
      }
    },
    {
      "cell_type": "code",
      "source": [
        "expr.to_csv('expr.csv')\n",
        "md.to_csv('md.csv')"
      ],
      "metadata": {
        "id": "7XaJwznRJisK"
      },
      "execution_count": 80,
      "outputs": []
    },
    {
      "cell_type": "code",
      "source": [
        "os.getcwd()"
      ],
      "metadata": {
        "id": "IQhtkgkxCdHT",
        "outputId": "b1e6e209-4d86-4304-b6ea-0ce3c03ec4de",
        "colab": {
          "base_uri": "https://localhost:8080/",
          "height": 35
        }
      },
      "execution_count": 81,
      "outputs": [
        {
          "output_type": "execute_result",
          "data": {
            "text/plain": [
              "'/content'"
            ],
            "application/vnd.google.colaboratory.intrinsic+json": {
              "type": "string"
            }
          },
          "metadata": {},
          "execution_count": 81
        }
      ]
    },
    {
      "cell_type": "markdown",
      "source": [
        "### Subsetting the data\n",
        "- subset the metadata and expression data to county = 'Spain'\n",
        "\n",
        "Hint: use the TestID on the filtered data to subset on the expression data"
      ],
      "metadata": {
        "id": "gMFOzMKyM4_0"
      }
    },
    {
      "cell_type": "code",
      "source": [
        "md_spain = md.loc[md.Country == 'Spain', :]\n",
        "\n",
        "testIdSpain = md.TestID[md.Country == 'Spain']\n",
        "\n",
        "expr_spain = expr[testIdSpain]"
      ],
      "metadata": {
        "id": "_eFTKBZGNMgI"
      },
      "execution_count": 83,
      "outputs": []
    },
    {
      "cell_type": "markdown",
      "source": [
        "- Print the shapes to check the result"
      ],
      "metadata": {
        "id": "jlFeuh7lwT5G"
      }
    },
    {
      "cell_type": "code",
      "source": [
        "print(md_spain.shape)\n",
        "print(testIdSpain.shape)\n",
        "print(expr_spain.shape)"
      ],
      "metadata": {
        "id": "bU2obVLnPZiH",
        "outputId": "1750f4b1-325c-4898-abba-575910d31c55",
        "colab": {
          "base_uri": "https://localhost:8080/"
        }
      },
      "execution_count": 84,
      "outputs": [
        {
          "output_type": "stream",
          "name": "stdout",
          "text": [
            "(522, 4)\n",
            "(522,)\n",
            "(245, 522)\n"
          ]
        }
      ]
    },
    {
      "cell_type": "markdown",
      "source": [
        "# Exploration of the expression data\n",
        "To gain an initial understanding of the expression data, we need to filter out the noise. Currently, noise is defined as values below 30.\n",
        "\n",
        "- Convert the expr dataframe into a numpy array\n",
        "- Set values below 30 to 0.0\n",
        "\n",
        "Remove rows were all values are 0\n",
        "- use the 'sum' method (axsis = 1) to the the sums of each row\n",
        "- use this rowsum values to subset the array"
      ],
      "metadata": {
        "id": "N9F2SKGsKHB_"
      }
    },
    {
      "cell_type": "code",
      "source": [
        "# Convert to numpy\n",
        "expr = expr.to_numpy()\n",
        "print(expr)"
      ],
      "metadata": {
        "id": "oL1ccxGwKAvi",
        "outputId": "80aeb17d-85f2-4527-c603-cd6153ae9255",
        "colab": {
          "base_uri": "https://localhost:8080/"
        }
      },
      "execution_count": 85,
      "outputs": [
        {
          "output_type": "stream",
          "name": "stdout",
          "text": [
            "[[18.5 19.67 20.11 ... 17.05 19.03 16.73]\n",
            " [22.99 21.95 20.66 ... 21.07 21.4 20.12]\n",
            " [19.15 19.57 21.78 ... 18.67 21.01 17.4]\n",
            " ...\n",
            " [23.43 24.02 24.02 ... 21.65 20.97 19.07]\n",
            " [27.51 27.94 27.94 ... 15.66 15.44 14.9]\n",
            " [27 25.61 25.61 ... 17.25 17.76 16.76]]\n"
          ]
        }
      ]
    },
    {
      "cell_type": "code",
      "source": [
        "# Set values below 30 to 0\n",
        "# Hint:\n",
        "# 'my_array < value' will return a boolean array which can be used\n",
        "expr[expr <30] = 0"
      ],
      "metadata": {
        "id": "pveqaIH8LJhH"
      },
      "execution_count": 86,
      "outputs": []
    },
    {
      "cell_type": "code",
      "source": [
        "# Calculate row sums\n",
        "row_sums = expr.sum(axis=1)\n",
        "\n",
        "# Filter rows where the sum is not 0\n",
        "expr = expr[row_sums !=0]"
      ],
      "metadata": {
        "id": "5RgqJExRQLfh"
      },
      "execution_count": 97,
      "outputs": []
    },
    {
      "cell_type": "code",
      "source": [
        "# for the spain subset\n",
        "expr_spain_array= expr_spain.to_numpy()\n",
        "expr_spain_array[expr_spain_array <30]=0\n",
        "row_sums_spain = expr_spain_array.sum(axis=1)\n",
        "expr_spain_array=expr_spain_array[row_sums_spain !=0]"
      ],
      "metadata": {
        "id": "d6MSnR_tSI-y"
      },
      "execution_count": null,
      "outputs": []
    },
    {
      "cell_type": "markdown",
      "source": [
        "### Visualize the Expression Data\n",
        "\n",
        "The follwing code is provided. Just make sure you replace the names of the variables with your variable names."
      ],
      "metadata": {
        "id": "x3L9CpZ2L-Ek"
      }
    },
    {
      "cell_type": "code",
      "source": [
        "import seaborn as sns\n",
        "# import pandas as pd\n",
        "from sklearn.cluster import KMeans  # Example clustering algorithm\n",
        "from sklearn.preprocessing import StandardScaler"
      ],
      "metadata": {
        "id": "nOyW1XMvLu_Q"
      },
      "execution_count": 89,
      "outputs": []
    },
    {
      "cell_type": "code",
      "source": [
        "# Standardize data (optional)\n",
        "scaler = StandardScaler()\n",
        "scaled_exp = scaler.fit_transform(expr_spain_array) # use the name of your array"
      ],
      "metadata": {
        "id": "U6smHFUIL7_M"
      },
      "execution_count": 104,
      "outputs": []
    },
    {
      "cell_type": "code",
      "source": [
        "# Create the clustermap with hierarchical clustering\n",
        "sns.clustermap(scaled_exp,\n",
        "               method='ward',  # Linkage method (ward, single, complete, average, etc.)\n",
        "               metric='euclidean',  # Distance metric (euclidean, cityblock, etc.)\n",
        "               cmap=\"YlGnBu\",       # Colormap\n",
        "               figsize=(10, 8))    # Figure size"
      ],
      "metadata": {
        "id": "ZBG43Yg6MW0h",
        "outputId": "477f854c-9064-40c3-bf63-0b1a23fc91b9",
        "colab": {
          "base_uri": "https://localhost:8080/",
          "height": 894
        }
      },
      "execution_count": 105,
      "outputs": [
        {
          "output_type": "stream",
          "name": "stderr",
          "text": [
            "/usr/local/lib/python3.10/dist-packages/seaborn/matrix.py:560: UserWarning: Clustering large matrix with scipy. Installing `fastcluster` may give better performance.\n",
            "  warnings.warn(msg)\n",
            "/usr/local/lib/python3.10/dist-packages/seaborn/matrix.py:560: UserWarning: Clustering large matrix with scipy. Installing `fastcluster` may give better performance.\n",
            "  warnings.warn(msg)\n"
          ]
        },
        {
          "output_type": "execute_result",
          "data": {
            "text/plain": [
              "<seaborn.matrix.ClusterGrid at 0x790469cb2860>"
            ]
          },
          "metadata": {},
          "execution_count": 105
        },
        {
          "output_type": "display_data",
          "data": {
            "text/plain": [
              "<Figure size 1000x800 with 4 Axes>"
            ],
            "image/png": "[encoded data removed]"
          },
          "metadata": {}
        }
      ]
    },
    {
      "cell_type": "markdown",
      "source": [
        "### Right click the plot and save the heatmap as image\n",
        "\n",
        "# Done. Congratulations!"
      ],
      "metadata": {
        "id": "qYo7-frTTQsF"
      }
    }
  ]
}